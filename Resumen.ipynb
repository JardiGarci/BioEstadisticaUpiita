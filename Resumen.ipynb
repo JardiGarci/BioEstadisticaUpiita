{
  "nbformat": 4,
  "nbformat_minor": 0,
  "metadata": {
    "colab": {
      "provenance": [],
      "collapsed_sections": [
        "emB7NsSK-XX1",
        "dCa_ByCw7vxC",
        "ngSi9LQo_DHl",
        "ubBrAhfF9ECM"
      ],
      "authorship_tag": "ABX9TyNsEnsk4k8rJhnULH7NUgmi",
      "include_colab_link": true
    },
    "kernelspec": {
      "name": "python3",
      "display_name": "Python 3"
    },
    "language_info": {
      "name": "python"
    }
  },
  "cells": [
    {
      "cell_type": "markdown",
      "metadata": {
        "id": "view-in-github",
        "colab_type": "text"
      },
      "source": [
        "<a href=\"https://colab.research.google.com/github/JardiGarci/BioEstadisticaUpiita/blob/main/Resumen.ipynb\" target=\"_parent\"><img src=\"https://colab.research.google.com/assets/colab-badge.svg\" alt=\"Open In Colab\"/></a>"
      ]
    },
    {
      "cell_type": "markdown",
      "source": [
        "# Resumen Python"
      ],
      "metadata": {
        "id": "qs8tOuKtF_gw"
      }
    },
    {
      "cell_type": "markdown",
      "source": [
        "## Funciones de Python\n"
      ],
      "metadata": {
        "id": "emB7NsSK-XX1"
      }
    },
    {
      "cell_type": "markdown",
      "source": [
        "\n",
        "**Funciones básicas:**\n",
        "\n",
        "* `print(object)`: Imprime un objeto en la consola.\n",
        "* `input(prompt)`: Solicita al usuario que introduzca un valor y lo devuelve como cadena.\n",
        "* `type(object)`: Devuelve el tipo de un objeto.\n",
        "* `len(object)`: Devuelve la longitud de un objeto (si es iterable).\n",
        "* `str(object)`: Convierte un objeto a una cadena.\n",
        "* `int(object)`: Convierte un objeto a un número entero.\n",
        "* `float(object)`: Convierte un objeto a un número de coma flotante.\n",
        "* `list(object)`: Convierte un objeto a una lista.\n",
        "* `tuple(object)`: Convierte un objeto a una tupla.\n",
        "* `dict(object)`: Convierte un objeto a un diccionario.\n",
        "\n",
        "**Funciones matemáticas:**\n",
        "\n",
        "* `abs(number)`: Devuelve el valor absoluto de un número.\n",
        "* `round(number, ndigits)`: Redondea un número a un número específico de decimales.\n",
        "* `min(a, b, ...)`: Devuelve el valor mínimo de uno o más números.\n",
        "* `max(a, b, ...)`: Devuelve el valor máximo de uno o más números.\n",
        "* `pow(a, b)`: Devuelve `a` elevado a la potencia `b`.\n",
        "\n",
        "**Funciones de comparación:**\n",
        "\n",
        "* `==`: Comprueba si dos objetos son iguales.\n",
        "* `!=`: Comprueba si dos objetos son diferentes.\n",
        "* `<`: Comprueba si un objeto es menor que otro.\n",
        "* `<=`: Comprueba si un objeto es menor o igual que otro.\n",
        "* `>`: Comprueba si un objeto es mayor que otro.\n",
        "* `>=`: Comprueba si un objeto es mayor o igual que otro.\n",
        "\n",
        "**Funciones de bucle:**\n",
        "\n",
        "* `for variable in iterable`: Recorre un iterable y ejecuta un bloque de código para cada elemento.\n",
        "* `while condition`: Ejecuta un bloque de código mientras se cumpla una condición.\n",
        "\n",
        "**Funciones condicionales:**\n",
        "\n",
        "* `if condition`: Ejecuta un bloque de código si se cumple una condición.\n",
        "* `elif condition`: Ejecuta un bloque de código si se cumple una condición después de que no se haya cumplido una condición anterior.\n",
        "* `else`: Ejecuta un bloque de código si no se cumple ninguna otra condición.\n",
        "\n",
        "**Funciones de manejo de archivos:**\n",
        "\n",
        "* `open(filename, mode)`: Abre un archivo en un modo específico.\n",
        "* `read(file)`: Lee el contenido de un archivo.\n",
        "* `write(file, data)`: Escribe datos en un archivo.\n",
        "* `close(file)`: Cierra un archivo.\n",
        "\n",
        "**Funciones de fecha y hora:**\n",
        "\n",
        "* `datetime.now()` : Devuelve la fecha y hora actual.\n",
        "* `datetime.strptime(string, format)`: Convierte una cadena a un objeto `datetime`.\n",
        "* `datetime.strftime(datetime, format)`: Convierte un objeto `datetime` a una cadena.\n",
        "\n",
        "**Funciones de importación:**\n",
        "\n",
        "* `import module`: Importa un módulo.\n",
        "* `from module import *`: Importa todos los nombres de un módulo.\n",
        "* `from module import name`: Importa un nombre específico de un módulo.\n",
        "\n",
        "**Funciones de orden superior:**\n",
        "\n",
        "* `map(function, iterable)`: Aplica una función a cada elemento de un iterable y devuelve un nuevo iterable.\n",
        "* `filter(function, iterable)`: Filtra los elementos de un iterable según una función y devuelve un nuevo iterable.\n",
        "* `reduce(function, iterable)`: Reduce un iterable a un único valor aplicando una función a cada par de elementos sucesivos.\n",
        "\n",
        "**Funciones de depuración:**\n",
        "\n",
        "* `print(object)`: Imprime un objeto en la consola.\n",
        "* `pdb.set_trace()`: Inicia el depurador pdb.\n",
        "\n",
        "**Funciones de pruebas:**\n",
        "\n",
        "* `unittest.TestCase`: Clase base para crear casos de prueba.\n",
        "* `assertEqual(a, b)`: Comprueba si dos objetos son iguales.\n",
        "* `assertNotEqual(a, b)`: Comprueba si dos objetos son diferentes.\n",
        "\n",
        "Esta lista no es exhaustiva, pero incluye algunas de las funciones más comunes de Python.\n",
        "\n",
        "Espero que esta información te sea útil. Si tienes más preguntas, no dudes en preguntar.\n"
      ],
      "metadata": {
        "id": "q0nFtGe6-Iv4"
      }
    },
    {
      "cell_type": "markdown",
      "source": [
        "## Listas"
      ],
      "metadata": {
        "id": "dCa_ByCw7vxC"
      }
    },
    {
      "cell_type": "markdown",
      "source": [
        "\n",
        "**Metodos más comunes de listas:**\n",
        "\n",
        "* `append(x)`: Agrega un elemento al final de la lista.\n",
        "* `extend(iterable)`: Extiende la lista con los elementos de un iterable.\n",
        "* `insert(i, x)`: Inserta un elemento en la lista en la posición `i`.\n",
        "* `remove(x)`: Elimina la primera aparición de `x` de la lista.\n",
        "* `pop(i)`: Elimina y devuelve el elemento en la posición `i` de la lista.\n",
        "* `reverse()`: Invierte el orden de la lista.\n",
        "* `sort(key=None, reverse=False)`: Ordena la lista.\n",
        "* `count(x)`: Cuenta el número de apariciones de `x` en la lista.\n",
        "* `index(x)`: Devuelve el índice de la primera aparición de `x` en la lista.\n",
        "* `copy()`: Crea una copia de la lista.\n",
        "\n",
        "**Acceso a elementos:**\n",
        "\n",
        "* `len(list)`: Devuelve la longitud de la lista.\n",
        "* `list[i]` : Accede a un elemento de la lista usando su índice.\n",
        "* `list[start:stop:step]` : Accede a un sublist usando slicing.\n",
        "\n",
        "**Operaciones con otras listas:**\n",
        "\n",
        "* `+`: Concatena dos listas.\n",
        "* `*`: Repite una lista un número de veces.\n",
        "* `in`: Comprueba si un elemento está en la lista.\n",
        "\n",
        "\n"
      ],
      "metadata": {
        "id": "m-em1R-A8pvD"
      }
    },
    {
      "cell_type": "markdown",
      "source": [
        "**Métodos comunes para trabajar con listas en Python**:\n",
        "\n",
        "1. **`append()`:** Añade un elemento al final de la lista.\n",
        "\n",
        "2. **`clear()`:** Vacía todos los elementos de una lista.\n",
        "\n",
        "3. **`extend()`:** Une una lista a otra.\n",
        "\n",
        "4. **`count()`:** Cuenta el número de veces que aparece un elemento en la lista.\n",
        "\n",
        "5. **`index()`:** Devuelve el índice en el que se encuentra un elemento específico.\n",
        "\n",
        "6. **`insert()`:** Inserta un elemento en una posición específica de la lista.\n",
        "\n",
        "7. **`remove()`:** Elimina la primera aparición de un elemento específico de la lista.\n",
        "\n",
        "8. **`pop()`:** Elimina y devuelve el elemento en una posición específica.\n",
        "\n",
        "9. **`sort()`:** Ordena los elementos de la lista en orden ascendente (por defecto) o descendente.\n",
        "\n",
        "10. **`reverse()`:** Invierte el orden de los elementos en la lista.\n",
        "\n",
        "Si necesitas más detalles sobre algún método en particular, no dudes en preguntar. 😊\n",
        "\n",
        "\n"
      ],
      "metadata": {
        "id": "6-w2EFrN1bVF"
      }
    },
    {
      "cell_type": "markdown",
      "source": [
        "## Numpy"
      ],
      "metadata": {
        "id": "74si_I-97zkF"
      }
    },
    {
      "cell_type": "markdown",
      "source": [
        "### Métodos más comunes de NumPy:"
      ],
      "metadata": {
        "id": "ngSi9LQo_DHl"
      }
    },
    {
      "cell_type": "markdown",
      "source": [
        "\n",
        "**Creación de arreglos:**\n",
        "\n",
        "* `np.array(object, dtype=None, order=None, copy=False)`: Crea un arreglo a partir de un objeto.\n",
        "* `np.zeros(shape, dtype=None, order=None)`: Crea un arreglo de ceros.\n",
        "* `np.ones(shape, dtype=None, order=None)`: Crea un arreglo de unos.\n",
        "* `np.empty(shape, dtype=None, order=None)`: Crea un arreglo vacío.\n",
        "* `np.arange(start, stop, step, dtype=None, order=None)`: Crea un arreglo con un rango de valores.\n",
        "* `np.linspace(start, stop, num=50, endpoint=True, retstep=False, dtype=None, order=None)`: Crea un arreglo con un rango de valores espaciados uniformemente.\n",
        "\n",
        "**Manipulación de arreglos:**\n",
        "\n",
        "* `np.reshape(array, newshape, order=None)`: Cambia la forma de un arreglo.\n",
        "* `np.transpose(array, axes=None)`: Transpone un arreglo.\n",
        "* `np.ravel(array, order=None)`: Convierte un arreglo a una dimensión.\n",
        "* `np.flatten(array, order=None)`: Aplana un arreglo.\n",
        "* `np.concatenate(arrays, axis=None, out=None)`: Concatena arreglos.\n",
        "* `np.split(array, num_or_size_splits, axis=0)`: Divide un arreglo en subarreglos.\n",
        "\n",
        "**Operaciones matemáticas:**\n",
        "\n",
        "* `np.add(array1, array2)`: Suma dos arreglos.\n",
        "* `np.subtract(array1, array2)`: Resta dos arreglos.\n",
        "* `np.multiply(array1, array2)`: Multiplica dos arreglos.\n",
        "* `np.divide(array1, array2)`: Divide dos arreglos.\n",
        "* `np.dot(array1, array2)`: Producto punto de dos arreglos.\n",
        "* `np.sum(array, axis=None)`: Suma los elementos de un arreglo.\n",
        "* `np.mean(array, axis=None)`: Calcula la media de los elementos de un arreglo.\n",
        "* `np.std(array, axis=None)`: Calcula la desviación estándar de los elementos de un arreglo.\n",
        "\n",
        "**Otros métodos:**\n",
        "\n",
        "* `np.sort(array, axis=None, kind=None, order=None)`: Ordena un arreglo.\n",
        "* `np.searchsorted(array, values, side=None, sorter=None)`: Busca un valor en un arreglo ordenado.\n",
        "* `np.where(condition, x, y)`: Devuelve un arreglo con los elementos de `x` donde la condición es verdadera y los elementos de `y` donde la condición es falsa.\n",
        "\n",
        "**Funciones matemáticas:**\n",
        "\n",
        "* `np.sin(array)`: Calcula el seno de los elementos de un array.\n",
        "* `np.cos(array)`: Calcula el coseno de los elementos de un array.\n",
        "* `np.tan(array)`: Calcula la tangente de los elementos de un array.\n",
        "* `np.exp(array)`: Calcula la exponencial de los elementos de un array.\n",
        "* `np.log(array)`: Calcula el logaritmo natural de los elementos de un array.\n",
        "\n",
        "**Estadística:**\n",
        "\n",
        "* `np.min(array, axis=None)`: Devuelve el valor mínimo de un array.\n",
        "* `np.max(array, axis=None)`: Devuelve el valor máximo de un array.\n",
        "* `np.mean(array, axis=None)`: Devuelve la media de un array"
      ],
      "metadata": {
        "id": "-hPKqqei_3A1"
      }
    },
    {
      "cell_type": "markdown",
      "source": [
        "### Métodos más comunes de Arreglos Numpy `np.array`:\n"
      ],
      "metadata": {
        "id": "ubBrAhfF9ECM"
      }
    },
    {
      "cell_type": "markdown",
      "source": [
        "\n",
        "**Acceso a elementos:**\n",
        "\n",
        "* `array[index]` : Accede a un elemento del array usando su índice.\n",
        "* `array[start:stop:step]` : Accede a un subarray usando slicing.\n",
        "\n",
        "**Modificación de arrays:**\n",
        "\n",
        "* `array[index] = value` : Modifica un elemento del array usando su índice.\n",
        "* `array[start:stop:step] = value` : Modifica un subarray usando slicing.\n",
        "\n",
        "**Operaciones matemáticas:**\n",
        "\n",
        "* `np.array.sum(axis=None)`: Suma los elementos de un array.\n",
        "* `np.array.mean(axis=None)`: Calcula la media de los elementos de un array.\n",
        "* `np.array.std(axis=None)`: Calcula la desviación estándar de los elementos de un array.\n",
        "* `np.array.var(axis=None)`: Calcula la varianza de los elementos de un array.\n",
        "* `np.array.min(axis=None)`: Devuelve el valor mínimo de un array.\n",
        "* `np.array.max(axis=None)`: Devuelve el valor máximo de un array.\n",
        "* `np.array.argmax(axis=None)`: Devuelve el índice del valor máximo de un array.\n",
        "* `np.array.argmin(axis=None)`: Devuelve el índice del valor mínimo de un array.\n",
        "* `np.array.ptp(axis=None)`: Devuelve la diferencia entre el valor máximo y el mínimo de un array.\n",
        "\n",
        "**Funciones de orden superior:**\n",
        "\n",
        "* `np.array.map(function, axis=None)`: Aplica una función a cada elemento de un array y devuelve un nuevo array.\n",
        "* `np.array.filter(function, axis=None)`: Filtra los elementos de un array según una función y devuelve un nuevo array.\n",
        "* `np.array.reduce(function, axis=None)`: Reduce un array a un único valor aplicando una función a cada par de elementos sucesivos.\n",
        "\n",
        "**Funciones de ordenación:**\n",
        "\n",
        "* `np.array.sort(axis=None, kind=None, order=None)`: Ordena un array.\n",
        "* `np.array.argsort(axis=None, kind=None, order=None)`: Devuelve los índices de un array ordenado.\n",
        "\n",
        "**Funciones de búsqueda:**\n",
        "\n",
        "* `np.array.searchsorted(value, side=None, sorter=None)`: Busca un valor en un array ordenado.\n",
        "* `np.array.where(condition, x, y)`: Devuelve un array con los elementos de `x` donde la condición es verdadera y los elementos de `y` donde la condición es falsa.\n",
        "\n",
        "**Funciones booleanas:**\n",
        "\n",
        "* `np.array.all(axis=None)`: Devuelve `True` si todos los elementos de un array son `True` y `False` en caso contrario.\n",
        "* `np.array.any(axis=None)`: Devuelve `True` si al menos un elemento de un array es `True` y `False` en caso contrario.\n",
        "\n",
        "**Funciones de álgebra lineal:**\n",
        "\n",
        "* `np.array.dot(array)`: Producto punto de dos arrays.\n",
        "\n",
        "**Funciones de entrada y salida:**\n",
        "\n",
        "* `np.array.tofile(file, sep=\"\", format=\"%s\")`: Guarda un array en un archivo.\n",
        "* `np.array.tolist()`: Convierte un array a una lista.\n"
      ],
      "metadata": {
        "id": "w2tjWG8HA7JN"
      }
    },
    {
      "cell_type": "markdown",
      "source": [
        "## Matplotlib"
      ],
      "metadata": {
        "id": "Ht3lF9afFRZ4"
      }
    },
    {
      "cell_type": "markdown",
      "source": [
        "### Principales funciones de matplotlib.pyplot:"
      ],
      "metadata": {
        "id": "JRVfxOxRFlrD"
      }
    },
    {
      "cell_type": "markdown",
      "source": [
        "\n",
        "\n",
        "**Creación de figuras y ejes:**\n",
        "\n",
        "* `plt.figure(num=None, figsize=None, dpi=None, facecolor=None, edgecolor=None, frameon=True)`: Crea una nueva figura.\n",
        "* `plt.subplot(nrows, ncols, index, sharex=None, sharey=False, **kwargs)`: Crea un subplot dentro de una figura.\n",
        "* `plt.axes(frameon=False, **kwargs)`: Crea un objeto de eje.\n",
        "\n",
        "**Trazado de líneas y puntos:**\n",
        "\n",
        "* `plt.plot(x, y, *, data=None, **kwargs)`: Traza una línea o puntos.\n",
        "* `plt.scatter(x, y, *, c=None, s=None, marker=None, cmap=None, norm=None, vmin=None, vmax=None, alpha=None, linewidths=None, edgecolors=None, **kwargs)`: Traza un diagrama de dispersión.\n",
        "* `plt.bar(x, height, *, width=0.8, bottom=None, align='center', data=None, **kwargs)`: Traza un diagrama de barras.\n",
        "* `plt.pie(x, *, labels=None, autopct='%1.1f%%', startangle=None, shadow=False, wedgeprops=None, textprops=None, center=(0, 0), radius=1, **kwargs)`: Traza un diagrama de sectores.\n",
        "\n",
        "**Personalización de la gráfica:**\n",
        "\n",
        "* `plt.title(title, **kwargs)`: Establece el título de la gráfica.\n",
        "* `plt.xlabel(xlabel, **kwargs)`: Establece la etiqueta del eje X.\n",
        "* `plt.ylabel(ylabel, **kwargs)`: Establece la etiqueta del eje Y.\n",
        "* `plt.xticks(ticks, labels=None, **kwargs)`: Establece las marcas y etiquetas del eje X.\n",
        "* `plt.yticks(ticks, labels=None, **kwargs)`: Establece las marcas y etiquetas del eje Y.\n",
        "* `plt.grid(b=True, which='major', axis='both', linestyle='-', linewidth=0.5, color='gray')`: Muestra una cuadrícula en la gráfica.\n",
        "* `plt.legend(handles=None, labels=None, **kwargs)`: Muestra una leyenda en la gráfica.\n",
        "\n",
        "**Funciones de guardado:**\n",
        "\n",
        "* `plt.savefig(filename, dpi=None, facecolor='white', edgecolor='white', **kwargs)`: Guarda la gráfica en un archivo.\n",
        "* `plt.show()`: Muestra la gráfica en una ventana emergente.\n",
        "\n",
        "**Funciones adicionales:**\n",
        "\n",
        "* `plt.clf()`: Borra la figura actual.\n",
        "* `plt.close(fig)`: Cierra una figura.\n",
        "* `plt.subplot2grid(layout, loc, **kwargs)`: Crea un subplot dentro de una cuadrícula.\n",
        "* `plt.twinx(ax)`: Crea un segundo eje Y para un eje X.\n",
        "* `plt.twiny(ax)`: Crea un segundo eje X para un eje Y.\n",
        "* `plt.polar(theta, r, **kwargs)`: Traza una gráfica polar.\n",
        "* `plt.loglog(x, y, **kwargs)`: Traza una gráfica con escala logarítmica en ambos ejes.\n",
        "* `plt.semilogx(x, y, **kwargs)`: Traza una gráfica con escala logarítmica en el eje X.\n",
        "* `plt.semilogy(x, y, **kwargs)`: Traza una gráfica con escala logarítmica en el eje Y.\n",
        "* `plt.hist(x, bins=None, range=None, density=False, weights=None, cumulative=False, bottom=None, histtype='bar', align='mid', orientation='vertical', rwidth=None, log=False, **kwargs)`: Traza un histograma.\n"
      ],
      "metadata": {
        "id": "_tJ8J6PBFZ1p"
      }
    },
    {
      "cell_type": "markdown",
      "source": [
        "## Métodos principales de Pandas en Python"
      ],
      "metadata": {
        "id": "87TXF-3UD2Qk"
      }
    },
    {
      "cell_type": "markdown",
      "source": [
        "\n",
        "**1. Métodos de selección y filtrado:**\n",
        "\n",
        "* `loc[]`: Selecciona filas y columnas por etiquetas.\n",
        "* `iloc[]`: Selecciona filas y columnas por posición.\n",
        "* `head()`: Muestra las primeras filas de un DataFrame.\n",
        "* `tail()`: Muestra las últimas filas de un DataFrame.\n",
        "* `sort_values()`: Ordena las filas por una o más columnas.\n",
        "* `groupby()`: Agrupa las filas por una o más columnas y aplica funciones a los grupos.\n",
        "* `filter()`: Filtra las filas que cumplen una condición.\n",
        "\n",
        "**2. Métodos de manipulación de datos:**\n",
        "\n",
        "* `fillna()`: Rellena los valores NA con un valor especificado.\n",
        "* `dropna()`: Elimina las filas que contienen valores NA.\n",
        "* `replace()`: Reemplaza los valores que coinciden con un patrón con otro valor.\n",
        "* `astype()`: Convierte el tipo de datos de una columna.\n",
        "* `add()`, `sub()`, `mul()`, `div()`: Operaciones matemáticas entre DataFrames o Series.\n",
        "\n",
        "**3. Métodos de agregación:**\n",
        "\n",
        "* `sum()`: Suma los valores de una columna.\n",
        "* `mean()`: Calcula la media de los valores de una columna.\n",
        "* `median()`: Calcula la mediana de los valores de una columna.\n",
        "* `max()`: Devuelve el valor máximo de una columna.\n",
        "* `min()`: Devuelve el valor mínimo de una columna.\n",
        "* `std()`: Calcula la desviación estándar de los valores de una columna.\n",
        "\n",
        "**4. Métodos de visualización:**\n",
        "\n",
        "* `plot()`: Muestra un gráfico de una o más columnas.\n",
        "* `hist()`: Muestra un histograma de una columna.\n",
        "* `scatter()`: Muestra un diagrama de dispersión de dos columnas.\n",
        "* `boxplot()`: Muestra un diagrama de caja de una o más columnas.\n",
        "\n",
        "**5. Métodos de entrada y salida:**\n",
        "\n",
        "* `read_csv()`: Lee un archivo CSV en un DataFrame.\n",
        "* `to_csv()`: Exporta un DataFrame a un archivo CSV.\n",
        "* `read_excel()`: Lee un archivo de Excel en un DataFrame.\n",
        "* `to_excel()`: Exporta un DataFrame a un archivo de Excel.\n",
        "\n"
      ],
      "metadata": {
        "id": "La7Pe-SUDxbW"
      }
    }
  ]
}